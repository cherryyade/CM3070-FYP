{
 "cells": [
  {
   "cell_type": "markdown",
   "id": "7190954c",
   "metadata": {},
   "source": [
    "## Student ID: 190428550"
   ]
  },
  {
   "cell_type": "markdown",
   "id": "8cfb3d5f",
   "metadata": {},
   "source": [
    "### Machine Learning and Neural Networks - Template (1)\n",
    "### Deep Learning on a Public Dataset"
   ]
  },
  {
   "cell_type": "markdown",
   "id": "ac070f17",
   "metadata": {},
   "source": [
    "##### *This notebook will contain the third iteration of our project, where we will attempt to create a well performing model using the Keras Functional API. We will also be applying batch normalization in our Keras Functional API model. This is a continuation of the 2nd iteration. Any new findings will be reported in new sections.*\n"
   ]
  },
  {
   "cell_type": "markdown",
   "id": "288ebcc6",
   "metadata": {},
   "source": [
    "### Table of Contents\n",
    "\n",
    "[Introduction](#introduction) <br>\n",
    "[Methodology](#methodology) <br>\n",
    "[Results](#results) <br>\n",
    "[Conclusion](#conclusion)<br>\n",
    "[References](#references)"
   ]
  },
  {
   "cell_type": "markdown",
   "id": "b3a7f1a5",
   "metadata": {},
   "source": [
    "### 1. Define the problem and assemble the dataset"
   ]
  },
  {
   "cell_type": "markdown",
   "id": "7e2c6f2d",
   "metadata": {},
   "source": [
    "The delay of flights will be predicted in this assignment. The data is obtained from Harvard Dataverse and converted into a CSV format for accessibility.\n",
    "\n",
    "The data contained in this dataset contains columns which are redundant for the exploration of our topic. The columns that will be used as our input to predict flight delays are:\n",
    "\n",
    "Categorical features:\n",
    "\n",
    "Month - Month\n",
    "Day Of Week - Day of Week\n",
    "UniqueCarrier - Unique Carrier\n",
    "Origin - Origin airport\n",
    "Dest - Destination airport\n",
    "HourOfDay - Hour(24H format) based on scheduled departure time (CRSDepTime)\n",
    "Numerical feature:\n",
    "\n",
    "Distance - Distance between airports (miles)\n",
    "This problem type falls under binary classification as there are only two outputs: Delayed / Not delayed\n",
    "\n",
    "According to the Bureau of Transportation Statistics, flights that arrive or depart 15 minutes after the scheduled time are considered delayed. Conversely, if a flight arrives or departs within 15 minutes of the scheduled time, it will be considered to be on time.\n",
    "\n",
    "A target variable column, 'Delayed', will be created which takes integer 1 or 0. Delayed = 1 if ArrDelay exceeds 15 minutes and 0 otherwise.\n",
    "\n",
    "Problems that may arise given the dataset used:\n",
    "\n",
    "The dataset only contains the records from the year of 2007. The latest dataset available is from 2008, but only contains the first 4 months of 2008. Hence, the dataset for 2007 was chosen and it is the lastest and most complete.\n",
    "\n",
    "Although a full range of data is available from 1987 to 2007, only data from the year 2007 will be used for this assigment due to computational limitations. 2007.csv contains more than 7 million rows on its own and takes more than 7 hours to train the model once. Although this is the lastest dataset available, it may not be able to predict current data accurately as the data is more than a decade old. We will be making the assumption that the future will behave like the past."
   ]
  },
  {
   "cell_type": "markdown",
   "id": "9815717e",
   "metadata": {},
   "source": [
    "### 2. Choosing a measure of success"
   ]
  },
  {
   "cell_type": "markdown",
   "id": "d3f1e232",
   "metadata": {},
   "source": [
    "Accuracy metric was initially chosen to gauge our success levels. However, it was found that it does not provide an accurate representation of the model's success. Based on the dataset, an average of 78% of flights are on time and 22% are delayed. Since the data is imbalanced in this case, accuracy cannot be used as the measure of success as it may produce a biassed result.\n",
    "\n",
    "We will be using ROC AUC and F1 score to gauge the level of success."
   ]
  },
  {
   "cell_type": "markdown",
   "id": "ee86d7a6",
   "metadata": {},
   "source": [
    "### 3. Deciding on an evaluation protocol (Testing)"
   ]
  },
  {
   "cell_type": "markdown",
   "id": "3d881192",
   "metadata": {},
   "source": [
    "\n",
    "The model will be evaluated using hold-out validation as we have a large number of data to utilise. The dataset will be split into ‘train’ and ‘test’ sets to evaluate how well the model works on data that has not yet been seen. The training set will be used to train the model. When employing the hold-out method, a typical split is to use 80% of the data for training and the remaining 20% for testing. A confusion matrix will be used to summarise the performance of the classifier.\n"
   ]
  },
  {
   "cell_type": "markdown",
   "id": "e9e783c9",
   "metadata": {},
   "source": [
    "### 4. Preparing your data"
   ]
  },
  {
   "cell_type": "markdown",
   "id": "a5d038b1",
   "metadata": {},
   "source": [
    "To prepare the data for training, vectorization will be performed on the values in the dataset. The dataset is made up of strings and integers. One-hot encoding must be used on the strings to convert them into a tensor of float32 data for TensorFlow to accept. Furthermore, the data will need to be normalised so that the network can converge. The values will be adjusted by ratio into the range 0-1. The features will also be normalised so that they have a mean of 0 and a standard deviation of 1. The dataset will be examined for invalid or missing values.\n"
   ]
  },
  {
   "cell_type": "code",
   "execution_count": 2,
   "id": "6d063cf6",
   "metadata": {},
   "outputs": [],
   "source": [
    "# pip install tensorflow\n",
    "# pip install keras\n",
    "# pip install pydot\n",
    "# install graphviz"
   ]
  },
  {
   "cell_type": "code",
   "execution_count": 3,
   "id": "d05b5ea0",
   "metadata": {},
   "outputs": [],
   "source": [
    "import pandas as pd\n",
    "import numpy as np\n",
    "import os\n",
    "\n",
    "# Make numpy values easier to read.\n",
    "np.set_printoptions(precision=3, suppress=True)\n",
    "\n",
    "import tensorflow as tf\n",
    "from tensorflow.keras import layers\n",
    "import tensorflow.keras as keras"
   ]
  },
  {
   "cell_type": "code",
   "execution_count": 4,
   "id": "562ed912",
   "metadata": {},
   "outputs": [
    {
     "data": {
      "text/plain": [
       "'2.9.0-dev20220304'"
      ]
     },
     "execution_count": 4,
     "metadata": {},
     "output_type": "execute_result"
    }
   ],
   "source": [
    "tf.__version__"
   ]
  },
  {
   "cell_type": "code",
   "execution_count": 5,
   "id": "b7ca09aa",
   "metadata": {},
   "outputs": [],
   "source": [
    "# read in data from csv, extract 100k samples\n",
    "# processing data from the other columns\n",
    "\n",
    "airplane_data = pd.read_csv(\"2007.csv\")\n",
    "airplane_data = airplane_data.sample(n=100000)\n",
    "\n",
    "airplane_data['CRSDepTime'].isna().sum() # There are no NA's\n",
    "\n",
    "airplane_data['CRSDepTime'] = airplane_data['CRSDepTime'].astype(str)\n",
    "length_of_crsdeptime = airplane_data['CRSDepTime'].str.len()\n",
    "airplane_data['HourOfDay'] = np.select([length_of_crsdeptime==4, length_of_crsdeptime==3, length_of_crsdeptime<3], [airplane_data['CRSDepTime'].str[0:2], airplane_data['CRSDepTime'].str[0:1], 0], np.nan)\n",
    "airplane_data['HourOfDay'] = airplane_data['HourOfDay'].astype(int)"
   ]
  },
  {
   "cell_type": "code",
   "execution_count": 6,
   "id": "4e43b067",
   "metadata": {},
   "outputs": [],
   "source": [
    "# adding a column to determine if flight was delayed based on the arrival delay time\n",
    "\n",
    "airplane_data = airplane_data.copy()\n",
    "airplane_data['Delayed'] = np.where(airplane_data['ArrDelay'] > 15, 1, 0) # Creating 'Delayed' column. Delayed = 1 if ArrDelay exceeds 15 minutes, 0 otherwise. \n",
    "airplane_data = airplane_data[['Month', 'DayOfWeek', 'UniqueCarrier', 'Origin', 'Dest', 'Distance', 'HourOfDay', 'Delayed']] # Keeping only columns that will be used as features and target variable."
   ]
  },
  {
   "cell_type": "code",
   "execution_count": 7,
   "id": "e3c54e3c",
   "metadata": {},
   "outputs": [
    {
     "data": {
      "text/html": [
       "<div>\n",
       "<style scoped>\n",
       "    .dataframe tbody tr th:only-of-type {\n",
       "        vertical-align: middle;\n",
       "    }\n",
       "\n",
       "    .dataframe tbody tr th {\n",
       "        vertical-align: top;\n",
       "    }\n",
       "\n",
       "    .dataframe thead th {\n",
       "        text-align: right;\n",
       "    }\n",
       "</style>\n",
       "<table border=\"1\" class=\"dataframe\">\n",
       "  <thead>\n",
       "    <tr style=\"text-align: right;\">\n",
       "      <th></th>\n",
       "      <th>Month</th>\n",
       "      <th>DayOfWeek</th>\n",
       "      <th>UniqueCarrier</th>\n",
       "      <th>Origin</th>\n",
       "      <th>Dest</th>\n",
       "      <th>Distance</th>\n",
       "      <th>HourOfDay</th>\n",
       "      <th>Delayed</th>\n",
       "    </tr>\n",
       "  </thead>\n",
       "  <tbody>\n",
       "    <tr>\n",
       "      <th>6710295</th>\n",
       "      <td>11</td>\n",
       "      <td>4</td>\n",
       "      <td>AA</td>\n",
       "      <td>JFK</td>\n",
       "      <td>SFO</td>\n",
       "      <td>2586</td>\n",
       "      <td>17</td>\n",
       "      <td>0</td>\n",
       "    </tr>\n",
       "    <tr>\n",
       "      <th>5038074</th>\n",
       "      <td>9</td>\n",
       "      <td>4</td>\n",
       "      <td>WN</td>\n",
       "      <td>IAD</td>\n",
       "      <td>LAS</td>\n",
       "      <td>2066</td>\n",
       "      <td>12</td>\n",
       "      <td>0</td>\n",
       "    </tr>\n",
       "    <tr>\n",
       "      <th>4393127</th>\n",
       "      <td>8</td>\n",
       "      <td>3</td>\n",
       "      <td>WN</td>\n",
       "      <td>DAL</td>\n",
       "      <td>AUS</td>\n",
       "      <td>189</td>\n",
       "      <td>17</td>\n",
       "      <td>0</td>\n",
       "    </tr>\n",
       "    <tr>\n",
       "      <th>3574222</th>\n",
       "      <td>6</td>\n",
       "      <td>2</td>\n",
       "      <td>AA</td>\n",
       "      <td>DFW</td>\n",
       "      <td>PHL</td>\n",
       "      <td>1302</td>\n",
       "      <td>8</td>\n",
       "      <td>1</td>\n",
       "    </tr>\n",
       "    <tr>\n",
       "      <th>4539617</th>\n",
       "      <td>8</td>\n",
       "      <td>5</td>\n",
       "      <td>OO</td>\n",
       "      <td>RFD</td>\n",
       "      <td>DEN</td>\n",
       "      <td>829</td>\n",
       "      <td>13</td>\n",
       "      <td>0</td>\n",
       "    </tr>\n",
       "  </tbody>\n",
       "</table>\n",
       "</div>"
      ],
      "text/plain": [
       "         Month  DayOfWeek UniqueCarrier Origin Dest  Distance  HourOfDay  \\\n",
       "6710295     11          4            AA    JFK  SFO      2586         17   \n",
       "5038074      9          4            WN    IAD  LAS      2066         12   \n",
       "4393127      8          3            WN    DAL  AUS       189         17   \n",
       "3574222      6          2            AA    DFW  PHL      1302          8   \n",
       "4539617      8          5            OO    RFD  DEN       829         13   \n",
       "\n",
       "         Delayed  \n",
       "6710295        0  \n",
       "5038074        0  \n",
       "4393127        0  \n",
       "3574222        1  \n",
       "4539617        0  "
      ]
     },
     "execution_count": 7,
     "metadata": {},
     "output_type": "execute_result"
    }
   ],
   "source": [
    "airplane_data.head()"
   ]
  },
  {
   "cell_type": "code",
   "execution_count": 8,
   "id": "8356c19b",
   "metadata": {
    "scrolled": true
   },
   "outputs": [],
   "source": [
    "dataframe = airplane_data"
   ]
  },
  {
   "cell_type": "markdown",
   "id": "badc945d",
   "metadata": {},
   "source": [
    "### Split the dataset into training, validation and testing sets, 80:10:10 ratio"
   ]
  },
  {
   "cell_type": "code",
   "execution_count": 9,
   "id": "24a2cd5e",
   "metadata": {},
   "outputs": [],
   "source": [
    "train, val, test = np.split(dataframe.sample(frac=1), [int(0.8*len(dataframe)), int(0.9*len(dataframe))])"
   ]
  },
  {
   "cell_type": "code",
   "execution_count": 10,
   "id": "04c2c6a3",
   "metadata": {},
   "outputs": [
    {
     "name": "stdout",
     "output_type": "stream",
     "text": [
      "80000 training examples\n",
      "10000 validation examples\n",
      "10000 test examples\n"
     ]
    }
   ],
   "source": [
    "print(len(train), 'training examples')\n",
    "print(len(val), 'validation examples')\n",
    "print(len(test), 'test examples')"
   ]
  },
  {
   "cell_type": "markdown",
   "id": "1db51b82",
   "metadata": {},
   "source": [
    "### Creating an input pipline using tf.data"
   ]
  },
  {
   "cell_type": "code",
   "execution_count": 11,
   "id": "cdd65156",
   "metadata": {},
   "outputs": [],
   "source": [
    "# Convert training, validation and testing sets dataframe into tf.data.Dataset\n",
    "# Shuffles and batches data\n",
    "\n",
    "def df_to_dataset(dataframe, shuffle=True, batch_size=32):\n",
    "    \n",
    "    df = dataframe.copy()\n",
    "    labels = df.pop('Delayed')\n",
    "    df = {key: value[:,tf.newaxis] for key, value in dataframe.items()}\n",
    "    ds = tf.data.Dataset.from_tensor_slices((dict(df), labels))\n",
    "    if shuffle:\n",
    "        ds = ds.shuffle(buffer_size=len(dataframe))\n",
    "        ds = ds.batch(batch_size)\n",
    "        ds = ds.prefetch(batch_size)\n",
    "        return ds"
   ]
  },
  {
   "cell_type": "code",
   "execution_count": 12,
   "id": "fc4d9f19",
   "metadata": {},
   "outputs": [],
   "source": [
    "batch_size = 5\n",
    "train_ds = df_to_dataset(train, batch_size=batch_size)"
   ]
  },
  {
   "cell_type": "code",
   "execution_count": 13,
   "id": "162c77a3",
   "metadata": {
    "scrolled": true
   },
   "outputs": [
    {
     "name": "stdout",
     "output_type": "stream",
     "text": [
      "Every feature: ['Month', 'DayOfWeek', 'UniqueCarrier', 'Origin', 'Dest', 'Distance', 'HourOfDay', 'Delayed']\n",
      "A batch of month: tf.Tensor(\n",
      "[[ 7]\n",
      " [12]\n",
      " [ 2]\n",
      " [ 7]\n",
      " [ 9]], shape=(5, 1), dtype=int64)\n",
      "A batch of delayed: tf.Tensor([0 1 0 0 0], shape=(5,), dtype=int32)\n"
     ]
    }
   ],
   "source": [
    "# Checking if the function returned a dictionary of column names that maps column values and rows\n",
    "\n",
    "[(train_features, label_batch)] = train_ds.take(1)\n",
    "print('Every feature:', list(train_features.keys()))\n",
    "print('A batch of month:', train_features['Month'])\n",
    "print('A batch of delayed:', label_batch )"
   ]
  },
  {
   "cell_type": "markdown",
   "id": "78748525",
   "metadata": {},
   "source": [
    "### Recap on selected features\n",
    "\n",
    "Categorical features: \n",
    "* Month - Month\n",
    "* Day Of Week - Day of Week \n",
    "* UniqueCarrier - Unique Carrier\n",
    "* Origin - Origin airport \n",
    "* Dest - Destination airport Airports not in the top 100  will be categorized as Others\n",
    "* HourOfDay - Hourly interval based on scheduled departure time (CRSDepTime)\n",
    "\n",
    "Numerical feature:\n",
    "* Distance - Distance between airports (miles)"
   ]
  },
  {
   "cell_type": "markdown",
   "id": "e748f6d9",
   "metadata": {},
   "source": [
    "#### Numerical Columns\n",
    "\n",
    "Standardizing the distribution of data by using normalization for each numeric feature. In this case, distance only."
   ]
  },
  {
   "cell_type": "code",
   "execution_count": 14,
   "id": "83f43e7b",
   "metadata": {},
   "outputs": [],
   "source": [
    "def get_normalization_layer(name, dataset):\n",
    "    \n",
    "    # Create a Normalization layer for the feature.\n",
    "    normalizer = layers.Normalization(axis=None)\n",
    "\n",
    "    # Prepare a Dataset that only yields the feature.\n",
    "    feature_ds = dataset.map(lambda x, y: x[name])\n",
    "\n",
    "    # Learn the statistics of the data.\n",
    "    normalizer.adapt(feature_ds)\n",
    "    \n",
    "    return normalizer"
   ]
  },
  {
   "cell_type": "code",
   "execution_count": 15,
   "id": "804f1d18",
   "metadata": {
    "scrolled": true
   },
   "outputs": [
    {
     "data": {
      "text/plain": [
       "<tf.Tensor: shape=(5, 1), dtype=float32, numpy=\n",
       "array([[-0.895],\n",
       "       [-0.673],\n",
       "       [-0.059],\n",
       "       [-0.822],\n",
       "       [-0.698]], dtype=float32)>"
      ]
     },
     "execution_count": 15,
     "metadata": {},
     "output_type": "execute_result"
    }
   ],
   "source": [
    "# Test the function with 'Distance' feature\n",
    "\n",
    "dist_col = train_features['Distance']\n",
    "layer = get_normalization_layer('Distance', train_ds)\n",
    "layer(dist_col)"
   ]
  },
  {
   "cell_type": "markdown",
   "id": "95284e4d",
   "metadata": {},
   "source": [
    "#### Categorical Columns\n",
    "\n",
    "Categorical features need to be multi-hot encoded before it can be fed to the model.\n",
    "The function below returns a layer that maps values from a vocabulary to integer indices using StringLookup or IntegerLookup."
   ]
  },
  {
   "cell_type": "code",
   "execution_count": 16,
   "id": "86c2abf8",
   "metadata": {},
   "outputs": [],
   "source": [
    "def get_category_encoding_layer(name, dataset, dtype, max_tokens=None):\n",
    "    \n",
    "    # Create a layer that turns strings into integer indices.\n",
    "    if dtype == 'string':\n",
    "        index = layers.StringLookup(max_tokens=max_tokens)\n",
    "    # Otherwise, create a layer that turns integer values into integer indices.\n",
    "    else:\n",
    "        index = layers.IntegerLookup(max_tokens=max_tokens)\n",
    "\n",
    "    # Prepare a `tf.data.Dataset` that only yields the feature.\n",
    "    feature_ds = dataset.map(lambda x, y: x[name])\n",
    "\n",
    "    # Learn the set of possible values and assign them a fixed integer index.\n",
    "    index.adapt(feature_ds)\n",
    "\n",
    "    # Encode the integer indices.\n",
    "    encoder = layers.CategoryEncoding(num_tokens=index.vocabulary_size())\n",
    "\n",
    "    # Apply multi-hot encoding to the indices.\n",
    "    return lambda feature: encoder(index(feature))"
   ]
  },
  {
   "cell_type": "code",
   "execution_count": 17,
   "id": "6d546549",
   "metadata": {
    "scrolled": true
   },
   "outputs": [
    {
     "data": {
      "text/plain": [
       "<tf.Tensor: shape=(5, 21), dtype=float32, numpy=\n",
       "array([[0., 0., 0., 0., 0., 0., 0., 0., 1., 0., 0., 0., 0., 0., 0., 0.,\n",
       "        0., 0., 0., 0., 0.],\n",
       "       [0., 0., 0., 0., 0., 0., 0., 0., 0., 0., 0., 0., 0., 0., 1., 0.,\n",
       "        0., 0., 0., 0., 0.],\n",
       "       [0., 0., 0., 0., 0., 0., 0., 0., 0., 0., 1., 0., 0., 0., 0., 0.,\n",
       "        0., 0., 0., 0., 0.],\n",
       "       [0., 1., 0., 0., 0., 0., 0., 0., 0., 0., 0., 0., 0., 0., 0., 0.,\n",
       "        0., 0., 0., 0., 0.],\n",
       "       [0., 1., 0., 0., 0., 0., 0., 0., 0., 0., 0., 0., 0., 0., 0., 0.,\n",
       "        0., 0., 0., 0., 0.]], dtype=float32)>"
      ]
     },
     "execution_count": 17,
     "metadata": {},
     "output_type": "execute_result"
    }
   ],
   "source": [
    "# Testing the previous function on categorical strings features\n",
    "\n",
    "test_carrier_col = train_features['UniqueCarrier']\n",
    "test_carrier_layer = get_category_encoding_layer(name='UniqueCarrier',\n",
    "                                              dataset=train_ds,\n",
    "                                              dtype='string')\n",
    "test_carrier_layer(test_carrier_col)"
   ]
  },
  {
   "cell_type": "code",
   "execution_count": 18,
   "id": "68787341",
   "metadata": {},
   "outputs": [
    {
     "data": {
      "text/plain": [
       "<tf.Tensor: shape=(5, 296), dtype=float32, numpy=\n",
       "array([[0., 0., 0., ..., 0., 0., 0.],\n",
       "       [0., 0., 0., ..., 0., 0., 0.],\n",
       "       [0., 1., 0., ..., 0., 0., 0.],\n",
       "       [0., 0., 0., ..., 0., 0., 0.],\n",
       "       [0., 0., 0., ..., 0., 0., 0.]], dtype=float32)>"
      ]
     },
     "execution_count": 18,
     "metadata": {},
     "output_type": "execute_result"
    }
   ],
   "source": [
    "test_origin_col = train_features['Origin']\n",
    "test_origin_layer = get_category_encoding_layer(name='Origin',\n",
    "                                              dataset=train_ds,\n",
    "                                              dtype='string')\n",
    "test_origin_layer(test_origin_col)"
   ]
  },
  {
   "cell_type": "code",
   "execution_count": 19,
   "id": "de047a30",
   "metadata": {},
   "outputs": [
    {
     "data": {
      "text/plain": [
       "<tf.Tensor: shape=(5, 297), dtype=float32, numpy=\n",
       "array([[0., 0., 0., ..., 0., 0., 0.],\n",
       "       [0., 0., 0., ..., 0., 0., 0.],\n",
       "       [0., 0., 0., ..., 0., 0., 0.],\n",
       "       [0., 0., 0., ..., 0., 0., 0.],\n",
       "       [0., 0., 0., ..., 0., 0., 0.]], dtype=float32)>"
      ]
     },
     "execution_count": 19,
     "metadata": {},
     "output_type": "execute_result"
    }
   ],
   "source": [
    "test_dest_col = train_features['Dest']\n",
    "test_dest_layer = get_category_encoding_layer(name='Dest',\n",
    "                                              dataset=train_ds,\n",
    "                                              dtype='string')\n",
    "test_dest_layer(test_dest_col)"
   ]
  },
  {
   "cell_type": "code",
   "execution_count": 20,
   "id": "79759c6c",
   "metadata": {},
   "outputs": [
    {
     "data": {
      "text/plain": [
       "<tf.Tensor: shape=(5, 5), dtype=float32, numpy=\n",
       "array([[0., 0., 0., 1., 0.],\n",
       "       [1., 0., 0., 0., 0.],\n",
       "       [1., 0., 0., 0., 0.],\n",
       "       [0., 0., 0., 1., 0.],\n",
       "       [1., 0., 0., 0., 0.]], dtype=float32)>"
      ]
     },
     "execution_count": 20,
     "metadata": {},
     "output_type": "execute_result"
    }
   ],
   "source": [
    "# Testing the previous function using categorical integer features\n",
    "\n",
    "month_col = train_features['Month']\n",
    "month_layer = get_category_encoding_layer(name='Month',\n",
    "                                             dataset=train_ds,\n",
    "                                             dtype='int64',\n",
    "                                             max_tokens=5)\n",
    "month_layer(month_col)"
   ]
  },
  {
   "cell_type": "code",
   "execution_count": 21,
   "id": "0133bff9",
   "metadata": {},
   "outputs": [
    {
     "data": {
      "text/plain": [
       "<tf.Tensor: shape=(5, 5), dtype=float32, numpy=\n",
       "array([[1., 0., 0., 0., 0.],\n",
       "       [1., 0., 0., 0., 0.],\n",
       "       [0., 0., 0., 1., 0.],\n",
       "       [1., 0., 0., 0., 0.],\n",
       "       [0., 0., 0., 0., 1.]], dtype=float32)>"
      ]
     },
     "execution_count": 21,
     "metadata": {},
     "output_type": "execute_result"
    }
   ],
   "source": [
    "day_col = train_features['DayOfWeek']\n",
    "day_layer = get_category_encoding_layer(name='DayOfWeek',\n",
    "                                             dataset=train_ds,\n",
    "                                             dtype='int64',\n",
    "                                             max_tokens=5)\n",
    "day_layer(day_col)"
   ]
  },
  {
   "cell_type": "code",
   "execution_count": 22,
   "id": "c46aaef9",
   "metadata": {},
   "outputs": [
    {
     "data": {
      "text/plain": [
       "<tf.Tensor: shape=(5, 5), dtype=float32, numpy=\n",
       "array([[1., 0., 0., 0., 0.],\n",
       "       [1., 0., 0., 0., 0.],\n",
       "       [1., 0., 0., 0., 0.],\n",
       "       [1., 0., 0., 0., 0.],\n",
       "       [0., 0., 0., 0., 1.]], dtype=float32)>"
      ]
     },
     "execution_count": 22,
     "metadata": {},
     "output_type": "execute_result"
    }
   ],
   "source": [
    "hour_col = train_features['HourOfDay']\n",
    "\n",
    "hour_layer = get_category_encoding_layer(name='HourOfDay',\n",
    "                                             dataset=train_ds,\n",
    "                                             dtype='int64',\n",
    "                                             max_tokens=5)\n",
    "hour_layer(hour_col)"
   ]
  },
  {
   "cell_type": "markdown",
   "id": "59c0cd43",
   "metadata": {},
   "source": [
    "### Preprocessing selected features to train the model\n",
    "\n",
    "Preprocessing will be applied on all the selected features and then added to a list."
   ]
  },
  {
   "cell_type": "code",
   "execution_count": 23,
   "id": "a92a3c74",
   "metadata": {},
   "outputs": [],
   "source": [
    "batch_size = 256\n",
    "train_ds = df_to_dataset(train, batch_size=batch_size)\n",
    "val_ds = df_to_dataset(val, batch_size=batch_size)\n",
    "test_ds = df_to_dataset(test, batch_size=batch_size)"
   ]
  },
  {
   "cell_type": "markdown",
   "id": "abb7973b",
   "metadata": {},
   "source": [
    "Normalizing the numerical features **Distance**, and add it to one list of inputs called encoded_features:"
   ]
  },
  {
   "cell_type": "code",
   "execution_count": 24,
   "id": "03af6d0f",
   "metadata": {},
   "outputs": [],
   "source": [
    "all_inputs = []\n",
    "encoded_features = []\n",
    "\n",
    "# Numerical features.\n",
    "for header in ['Distance']:\n",
    "    numeric_col = tf.keras.Input(shape=(1,), name=header)\n",
    "    normalization_layer = get_normalization_layer(header, train_ds)\n",
    "    encoded_numeric_col = normalization_layer(numeric_col)\n",
    "    all_inputs.append(numeric_col)\n",
    "    encoded_features.append(encoded_numeric_col)"
   ]
  },
  {
   "cell_type": "markdown",
   "id": "31ca6657",
   "metadata": {},
   "source": [
    "Turn the integer categorical values from the dataset **Month, DayOfWeek, HourOfDay** into integer indices, perform multi-hot encoding, and add the resulting feature inputs to encoded_features:"
   ]
  },
  {
   "cell_type": "code",
   "execution_count": 25,
   "id": "60a79ff8",
   "metadata": {},
   "outputs": [],
   "source": [
    "month_col = tf.keras.Input(shape=(1,), name='Month', dtype='int64')\n",
    "\n",
    "encoding_layer = get_category_encoding_layer(name='Month',\n",
    "                                             dataset=train_ds,\n",
    "                                             dtype='int64',\n",
    "                                             max_tokens=5)\n",
    "encoded_month_col = encoding_layer(month_col)\n",
    "all_inputs.append(month_col)\n",
    "encoded_features.append(encoded_month_col)"
   ]
  },
  {
   "cell_type": "code",
   "execution_count": 26,
   "id": "f1c03baf",
   "metadata": {},
   "outputs": [],
   "source": [
    "day_col = tf.keras.Input(shape=(1,), name='DayOfWeek', dtype='int64')\n",
    "\n",
    "encoding_layer = get_category_encoding_layer(name='DayOfWeek',\n",
    "                                             dataset=train_ds,\n",
    "                                             dtype='int64',\n",
    "                                             max_tokens=5)\n",
    "encoded_day_col = encoding_layer(day_col)\n",
    "all_inputs.append(day_col)\n",
    "encoded_features.append(encoded_day_col)"
   ]
  },
  {
   "cell_type": "code",
   "execution_count": 27,
   "id": "fd6d9e9c",
   "metadata": {},
   "outputs": [],
   "source": [
    "hour_col = tf.keras.Input(shape=(1,), name='HourOfDay', dtype='int64')\n",
    "\n",
    "encoding_layer = get_category_encoding_layer(name='HourOfDay',\n",
    "                                             dataset=train_ds,\n",
    "                                             dtype='int64',\n",
    "                                             max_tokens=5)\n",
    "encoded_hour_col = encoding_layer(hour_col)\n",
    "all_inputs.append(hour_col)\n",
    "encoded_features.append(encoded_hour_col)"
   ]
  },
  {
   "cell_type": "markdown",
   "id": "3e144121",
   "metadata": {},
   "source": [
    "Repeating the same steps for categorical features"
   ]
  },
  {
   "cell_type": "code",
   "execution_count": 28,
   "id": "a82ef676",
   "metadata": {},
   "outputs": [],
   "source": [
    "# categorical features.\n",
    "\n",
    "categorical_cols = ['UniqueCarrier', 'Origin', 'Dest']\n",
    "\n",
    "for header in categorical_cols:\n",
    "    categorical_col = tf.keras.Input(shape=(1,), name=header, dtype='string')\n",
    "    encoding_layer = get_category_encoding_layer(name=header,\n",
    "                                               dataset=train_ds,\n",
    "                                               dtype='string',\n",
    "                                               max_tokens=5)\n",
    "    encoded_categorical_col = encoding_layer(categorical_col)\n",
    "    all_inputs.append(categorical_col)\n",
    "    encoded_features.append(encoded_categorical_col)"
   ]
  },
  {
   "cell_type": "markdown",
   "id": "5c1f2d91",
   "metadata": {},
   "source": [
    "### Create, Compile and Train a Model (Using Keras Functional API)\n",
    "\n",
    "The model will be created using Keras Functional API. The first layer merges all feature inputs using concatenation."
   ]
  },
  {
   "cell_type": "code",
   "execution_count": 29,
   "id": "4b98ec91",
   "metadata": {},
   "outputs": [],
   "source": [
    "from keras import regularizers\n",
    "from tensorflow.keras import layers\n",
    "from tensorflow.keras.models import Model\n",
    "from tensorflow.keras.layers import Input,Dense"
   ]
  },
  {
   "cell_type": "code",
   "execution_count": 30,
   "id": "5a068953",
   "metadata": {
    "scrolled": true
   },
   "outputs": [
    {
     "name": "stdout",
     "output_type": "stream",
     "text": [
      "Model: \"model\"\n",
      "__________________________________________________________________________________________________\n",
      " Layer (type)                   Output Shape         Param #     Connected to                     \n",
      "==================================================================================================\n",
      " Month (InputLayer)             [(None, 1)]          0           []                               \n",
      "                                                                                                  \n",
      " DayOfWeek (InputLayer)         [(None, 1)]          0           []                               \n",
      "                                                                                                  \n",
      " HourOfDay (InputLayer)         [(None, 1)]          0           []                               \n",
      "                                                                                                  \n",
      " UniqueCarrier (InputLayer)     [(None, 1)]          0           []                               \n",
      "                                                                                                  \n",
      " Origin (InputLayer)            [(None, 1)]          0           []                               \n",
      "                                                                                                  \n",
      " Dest (InputLayer)              [(None, 1)]          0           []                               \n",
      "                                                                                                  \n",
      " Distance (InputLayer)          [(None, 1)]          0           []                               \n",
      "                                                                                                  \n",
      " integer_lookup_3 (IntegerLooku  (None, 1)           0           ['Month[0][0]']                  \n",
      " p)                                                                                               \n",
      "                                                                                                  \n",
      " integer_lookup_4 (IntegerLooku  (None, 1)           0           ['DayOfWeek[0][0]']              \n",
      " p)                                                                                               \n",
      "                                                                                                  \n",
      " integer_lookup_5 (IntegerLooku  (None, 1)           0           ['HourOfDay[0][0]']              \n",
      " p)                                                                                               \n",
      "                                                                                                  \n",
      " string_lookup_3 (StringLookup)  (None, 1)           0           ['UniqueCarrier[0][0]']          \n",
      "                                                                                                  \n",
      " string_lookup_4 (StringLookup)  (None, 1)           0           ['Origin[0][0]']                 \n",
      "                                                                                                  \n",
      " string_lookup_5 (StringLookup)  (None, 1)           0           ['Dest[0][0]']                   \n",
      "                                                                                                  \n",
      " normalization_1 (Normalization  (None, 1)           3           ['Distance[0][0]']               \n",
      " )                                                                                                \n",
      "                                                                                                  \n",
      " category_encoding_6 (CategoryE  (None, 5)           0           ['integer_lookup_3[0][0]']       \n",
      " ncoding)                                                                                         \n",
      "                                                                                                  \n",
      " category_encoding_7 (CategoryE  (None, 5)           0           ['integer_lookup_4[0][0]']       \n",
      " ncoding)                                                                                         \n",
      "                                                                                                  \n",
      " category_encoding_8 (CategoryE  (None, 5)           0           ['integer_lookup_5[0][0]']       \n",
      " ncoding)                                                                                         \n",
      "                                                                                                  \n",
      " category_encoding_9 (CategoryE  (None, 5)           0           ['string_lookup_3[0][0]']        \n",
      " ncoding)                                                                                         \n",
      "                                                                                                  \n",
      " category_encoding_10 (Category  (None, 5)           0           ['string_lookup_4[0][0]']        \n",
      " Encoding)                                                                                        \n",
      "                                                                                                  \n",
      " category_encoding_11 (Category  (None, 5)           0           ['string_lookup_5[0][0]']        \n",
      " Encoding)                                                                                        \n",
      "                                                                                                  \n",
      " concatenate (Concatenate)      (None, 31)           0           ['normalization_1[0][0]',        \n",
      "                                                                  'category_encoding_6[0][0]',    \n",
      "                                                                  'category_encoding_7[0][0]',    \n",
      "                                                                  'category_encoding_8[0][0]',    \n",
      "                                                                  'category_encoding_9[0][0]',    \n",
      "                                                                  'category_encoding_10[0][0]',   \n",
      "                                                                  'category_encoding_11[0][0]']   \n",
      "                                                                                                  \n",
      " dense (Dense)                  (None, 32)           1024        ['concatenate[0][0]']            \n",
      "                                                                                                  \n",
      " batch_normalization (BatchNorm  (None, 32)          128         ['dense[0][0]']                  \n",
      " alization)                                                                                       \n",
      "                                                                                                  \n",
      " dense_1 (Dense)                (None, 16)           528         ['batch_normalization[0][0]']    \n",
      "                                                                                                  \n",
      " dropout (Dropout)              (None, 16)           0           ['dense_1[0][0]']                \n",
      "                                                                                                  \n",
      " dense_2 (Dense)                (None, 1)            17          ['dropout[0][0]']                \n",
      "                                                                                                  \n",
      "==================================================================================================\n",
      "Total params: 1,700\n",
      "Trainable params: 1,633\n",
      "Non-trainable params: 67\n",
      "__________________________________________________________________________________________________\n"
     ]
    }
   ],
   "source": [
    "all_features = tf.keras.layers.concatenate(encoded_features)\n",
    "\n",
    "x = tf.keras.layers.Dense(32)(all_features)\n",
    "x = tf.keras.layers.BatchNormalization()(x)\n",
    "x = tf.keras.layers.Dense(16)(x)\n",
    "x = tf.keras.layers.Dropout(0.5)(x)\n",
    "output = tf.keras.layers.Dense(1, activation='sigmoid')(x)\n",
    "\n",
    "model = tf.keras.Model(all_inputs, output)\n",
    "model.summary()"
   ]
  },
  {
   "cell_type": "markdown",
   "id": "25fd6e02",
   "metadata": {},
   "source": [
    "### Configuring the model using compile\n",
    "\n",
    "Binary crossentropy is selected as there are only two outcomes for the flight delay prediction: Delayed or Not Delayed."
   ]
  },
  {
   "cell_type": "code",
   "execution_count": 31,
   "id": "11f753d3",
   "metadata": {},
   "outputs": [],
   "source": [
    "model.compile(optimizer='adam',\n",
    "              loss=tf.keras.losses.BinaryCrossentropy(from_logits=True),\n",
    "              metrics=[\"accuracy\", tf.keras.metrics.AUC(from_logits=True)])"
   ]
  },
  {
   "cell_type": "code",
   "execution_count": 32,
   "id": "2a5c9402",
   "metadata": {},
   "outputs": [
    {
     "data": {
      "image/png": "[encoded data removed]",
      "text/plain": [
       "<IPython.core.display.Image object>"
      ]
     },
     "execution_count": 32,
     "metadata": {},
     "output_type": "execute_result"
    }
   ],
   "source": [
    "# Visualizing the connectivity graph\n",
    "\n",
    "tf.keras.utils.plot_model(model, show_shapes=True, dpi=100, rankdir=\"LR\")"
   ]
  },
  {
   "cell_type": "markdown",
   "id": "c99a2184",
   "metadata": {},
   "source": [
    "### Training the Model"
   ]
  },
  {
   "cell_type": "code",
   "execution_count": 33,
   "id": "e5d1a905",
   "metadata": {
    "scrolled": false
   },
   "outputs": [
    {
     "name": "stdout",
     "output_type": "stream",
     "text": [
      "Epoch 1/10\n",
      "313/313 [==============================] - 3s 4ms/step - loss: 0.6061 - accuracy: 0.7068 - auc: 0.5433 - val_loss: 0.5276 - val_accuracy: 0.7709 - val_auc: 0.5986\n",
      "Epoch 2/10\n",
      "313/313 [==============================] - 1s 3ms/step - loss: 0.5422 - accuracy: 0.7655 - auc: 0.5764 - val_loss: 0.5285 - val_accuracy: 0.7710 - val_auc: 0.5977\n",
      "Epoch 3/10\n",
      "313/313 [==============================] - 1s 3ms/step - loss: 0.5377 - accuracy: 0.7667 - auc: 0.5840 - val_loss: 0.5279 - val_accuracy: 0.7709 - val_auc: 0.5942\n",
      "Epoch 4/10\n",
      "313/313 [==============================] - 1s 3ms/step - loss: 0.5354 - accuracy: 0.7669 - auc: 0.5893 - val_loss: 0.5272 - val_accuracy: 0.7709 - val_auc: 0.5990\n",
      "Epoch 5/10\n",
      "313/313 [==============================] - 1s 3ms/step - loss: 0.5338 - accuracy: 0.7671 - auc: 0.5918 - val_loss: 0.5281 - val_accuracy: 0.7708 - val_auc: 0.5935\n",
      "Epoch 6/10\n",
      "313/313 [==============================] - 1s 3ms/step - loss: 0.5328 - accuracy: 0.7671 - auc: 0.5944 - val_loss: 0.5278 - val_accuracy: 0.7709 - val_auc: 0.5960\n",
      "Epoch 7/10\n",
      "313/313 [==============================] - 1s 3ms/step - loss: 0.5325 - accuracy: 0.7672 - auc: 0.5946 - val_loss: 0.5273 - val_accuracy: 0.7710 - val_auc: 0.5987\n",
      "Epoch 8/10\n",
      "313/313 [==============================] - 1s 3ms/step - loss: 0.5318 - accuracy: 0.7672 - auc: 0.5973 - val_loss: 0.5274 - val_accuracy: 0.7710 - val_auc: 0.5970\n",
      "Epoch 9/10\n",
      "313/313 [==============================] - 1s 3ms/step - loss: 0.5310 - accuracy: 0.7672 - auc: 0.6002 - val_loss: 0.5274 - val_accuracy: 0.7709 - val_auc: 0.5951\n",
      "Epoch 10/10\n",
      "313/313 [==============================] - 1s 3ms/step - loss: 0.5311 - accuracy: 0.7672 - auc: 0.5989 - val_loss: 0.5267 - val_accuracy: 0.7710 - val_auc: 0.5986\n"
     ]
    }
   ],
   "source": [
    "history = model.fit(train_ds, epochs=10, validation_data=val_ds)"
   ]
  },
  {
   "cell_type": "markdown",
   "id": "5c9ccf16",
   "metadata": {},
   "source": [
    "### Testing the Model"
   ]
  },
  {
   "cell_type": "code",
   "execution_count": 34,
   "id": "536bd19d",
   "metadata": {
    "scrolled": false
   },
   "outputs": [
    {
     "name": "stdout",
     "output_type": "stream",
     "text": [
      "40/40 [==============================] - 0s 2ms/step - loss: 0.5250 - accuracy: 0.7711 - auc: 0.6066\n",
      "Loss:  0.5249856114387512\n",
      "AUC:  0.6066322326660156\n",
      "Accuracy:  0.7710999846458435\n"
     ]
    }
   ],
   "source": [
    "loss, accuracy, auc = model.evaluate(test_ds)\n",
    "print(\"Loss: \", loss)\n",
    "print(\"AUC: \", auc)\n",
    "print(\"Accuracy: \", accuracy)"
   ]
  },
  {
   "cell_type": "markdown",
   "id": "900b50cd",
   "metadata": {},
   "source": [
    "### Visualizing the validation loss and validation accuracy graphs"
   ]
  },
  {
   "cell_type": "code",
   "execution_count": 35,
   "id": "20c20c76",
   "metadata": {},
   "outputs": [],
   "source": [
    "# Create function to plot graphs\n",
    "\n",
    "import matplotlib.pyplot as plt\n",
    "\n",
    "def plot_loss(loss, val_loss):\n",
    "    plt.clf()\n",
    "    epochs = range(1, len(loss) + 1)\n",
    "    plt.plot(epochs, loss, 'bo', label='Training Loss')\n",
    "    plt.plot(epochs, val_loss, 'b', label='Validation Loss')\n",
    "    plt.title('Training and validation loss')\n",
    "    plt.xlabel('Epochs')\n",
    "    plt.ylabel('Loss')\n",
    "    plt.legend()\n",
    "    plt.show()\n",
    "    \n",
    "def plot_accuracy(acc, val_acc):\n",
    "    plt.clf()\n",
    "    epoch = range(1, len(acc) +1)\n",
    "    plt.plot(epoch, acc, 'bo', label=\"Training Accuracy\")\n",
    "    plt.plot(epoch, val_acc, 'b', label=\"Validation Accuracy\")\n",
    "    plt.title(\"Training and Validation Accuracy\")\n",
    "    plt.xlabel('Epoch')\n",
    "    plt.ylabel('Accuracy')\n",
    "    plt.legend()\n",
    "    plt.show()\n",
    "    "
   ]
  },
  {
   "cell_type": "code",
   "execution_count": 36,
   "id": "9ec72e63",
   "metadata": {
    "scrolled": false
   },
   "outputs": [
    {
     "data": {
      "image/png": "[encoded data removed]",
      "text/plain": [
       "<Figure size 640x480 with 1 Axes>"
      ]
     },
     "metadata": {},
     "output_type": "display_data"
    }
   ],
   "source": [
    "plot_loss(history.history['loss'], history.history['val_loss'])"
   ]
  },
  {
   "cell_type": "code",
   "execution_count": 37,
   "id": "96598b8a",
   "metadata": {},
   "outputs": [
    {
     "data": {
      "image/png": "[encoded data removed]",
      "text/plain": [
       "<Figure size 640x480 with 1 Axes>"
      ]
     },
     "metadata": {},
     "output_type": "display_data"
    }
   ],
   "source": [
    "plot_accuracy(history.history['accuracy'], history.history['accuracy'])"
   ]
  },
  {
   "cell_type": "markdown",
   "id": "d97d5171",
   "metadata": {},
   "source": [
    "### Saving and Reloading the Keras Model"
   ]
  },
  {
   "cell_type": "code",
   "execution_count": 38,
   "id": "2db91697",
   "metadata": {},
   "outputs": [
    {
     "name": "stderr",
     "output_type": "stream",
     "text": [
      "WARNING:absl:Function `_wrapped_model` contains input name(s) Distance, Month, DayOfWeek, HourOfDay, UniqueCarrier, Origin, Dest with unsupported characters which will be renamed to distance, month, dayofweek, hourofday, uniquecarrier, origin, dest in the SavedModel.\n"
     ]
    },
    {
     "name": "stdout",
     "output_type": "stream",
     "text": [
      "INFO:tensorflow:Assets written to: flight_delay_classifier_first\\assets\n"
     ]
    },
    {
     "name": "stderr",
     "output_type": "stream",
     "text": [
      "INFO:tensorflow:Assets written to: flight_delay_classifier_first\\assets\n"
     ]
    }
   ],
   "source": [
    "model.save('flight_delay_classifier_first')\n",
    "reloaded_model = tf.keras.models.load_model('flight_delay_classifier_first')"
   ]
  },
  {
   "cell_type": "markdown",
   "id": "53dff479",
   "metadata": {},
   "source": [
    "### Getting a Prediction on a Sample\n",
    "\n",
    "The model can be implemented to flight booking websites or apps and inputs the flight details so that passengers determine the probability of a flight being delayed."
   ]
  },
  {
   "cell_type": "code",
   "execution_count": 39,
   "id": "ce805450",
   "metadata": {},
   "outputs": [
    {
     "name": "stdout",
     "output_type": "stream",
     "text": [
      "1/1 [==============================] - 0s 249ms/step\n",
      "This particular flight had a 58.6 percent probability of getting delayed.\n"
     ]
    }
   ],
   "source": [
    "# EXAMPLE\n",
    "\n",
    "sample = {\n",
    "    'Month': 5,\n",
    "    'DayOfWeek': 5,\n",
    "    'UniqueCarrier': 'MQ',\n",
    "    'Origin': 'TVC',\n",
    "    'Dest': 'ORD',\n",
    "    'Distance': 224,\n",
    "    'HourOfDay': 12,    \n",
    "}\n",
    "\n",
    "input_dict = {name: tf.convert_to_tensor([value]) for name, value in sample.items()}\n",
    "predictions = reloaded_model.predict(input_dict)\n",
    "prob = tf.nn.sigmoid(predictions[0])\n",
    "\n",
    "print(\n",
    "    \"This particular flight had a %.1f percent probability \"\n",
    "    \"of getting delayed.\" % (100 * prob)\n",
    ")"
   ]
  },
  {
   "cell_type": "markdown",
   "id": "75d7c49f",
   "metadata": {},
   "source": [
    "# Whats Next?"
   ]
  },
  {
   "cell_type": "markdown",
   "id": "29189705",
   "metadata": {},
   "source": [
    "In the next iteration, we will be working on creating a model using **Model Ensembling**, which is part of the advanced modelling technique found in Chapter 7 of 'Deep Learning with Python' by François Chollet."
   ]
  }
 ],
 "metadata": {
  "kernelspec": {
   "display_name": "Python 3",
   "language": "python",
   "name": "python3"
  },
  "language_info": {
   "codemirror_mode": {
    "name": "ipython",
    "version": 3
   },
   "file_extension": ".py",
   "mimetype": "text/x-python",
   "name": "python",
   "nbconvert_exporter": "python",
   "pygments_lexer": "ipython3",
   "version": "3.8.5"
  }
 },
 "nbformat": 4,
 "nbformat_minor": 5
}
