{
 "cells": [
  {
   "cell_type": "markdown",
   "id": "9558af55",
   "metadata": {},
   "source": [
    "## Student ID: 190428550"
   ]
  },
  {
   "cell_type": "markdown",
   "id": "9c8f8c12",
   "metadata": {},
   "source": [
    "### Machine Learning and Neural Networks - Template (1)\n",
    "### Deep Learning on a Public Dataset"
   ]
  },
  {
   "cell_type": "markdown",
   "id": "5ba60cc9",
   "metadata": {},
   "source": [
    "### 1. Define the problem and assemble the dataset"
   ]
  },
  {
   "cell_type": "markdown",
   "id": "7d163261",
   "metadata": {},
   "source": [
    "The delay of flights will be predicted in this assignment. The data is obtained from Harvard Dataverse and converted into a CSV format for accessibility.\n",
    "\n",
    "The data contained in this dataset contains columns which are redundant for the exploration of our topic. The columns that will be used as our input to predict flight delays are:\n",
    "\n",
    "Categorical features:\n",
    "\n",
    "Month - Month<br>\n",
    "Day Of Week - Day of Week<br> \n",
    "UniqueCarrier - Unique Carrier<br> \n",
    "Origin - Origin airport<br> \n",
    "Dest - Destination airport<br> \n",
    "HourOfDay - Hour(24H format) based on scheduled departure time (CRSDepTime)<br> \n",
    "\n",
    "Numerical feature:\n",
    "\n",
    "Distance - Distance between airports (miles) \n",
    "\n",
    "This problem type falls under binary classification as there are only two outputs: Delayed / Not delayed\n",
    "\n",
    "According to the Bureau of Transportation Statistics, flights that arrive or depart 15 minutes after the scheduled time are considered delayed. Conversely, if a flight arrives or departs within 15 minutes of the scheduled time, it will be considered to be on time.\n",
    "\n",
    "A target variable column, 'Delayed', will be created which takes integer 1 or 0. Delayed = 1 if ArrDelay exceeds 15 minutes and 0 otherwise.\n",
    "\n",
    "Problems that may arise given the dataset used:\n",
    "\n",
    "The dataset only contains the records from the year of 2007. The latest dataset available is from 2008, but only contains the first 4 months of 2008. Hence, the dataset for 2007 was chosen and it is the lastest and most complete.\n",
    "\n",
    "Although a full range of data is available from 1987 to 2007, only data from the year 2007 will be used for this assigment due to computational limitations. 2007.csv contains more than 7 million rows on its own and takes more than 7 hours to train the model once. Although this is the lastest dataset available, it may not be able to predict current data accurately as the data is more than a decade old. We will be making the assumption that the future will behave like the past."
   ]
  },
  {
   "cell_type": "markdown",
   "id": "f3321d92",
   "metadata": {},
   "source": [
    "### 2. Choosing a measure of success"
   ]
  },
  {
   "cell_type": "markdown",
   "id": "523d67db",
   "metadata": {},
   "source": [
    "Accuracy metric was initially chosen to gauge our success levels. However, it was found that it does not provide an accurate representation of the model's success. Based on the dataset, an average of 78% of flights are on time and 22% are delayed. Since the data is imbalanced in this case, accuracy cannot be used as the measure of success as it may produce a biased result."
   ]
  },
  {
   "cell_type": "markdown",
   "id": "b6821114",
   "metadata": {},
   "source": [
    "### 3. Deciding on an evaluation protocol (Testing)"
   ]
  },
  {
   "cell_type": "markdown",
   "id": "72ae5e5d",
   "metadata": {},
   "source": [
    "The model will be evaluated using hold-out validation as we have a large number of data to utilise. The dataset will be split into ‘train’ and ‘test’ sets to evaluate how well the model works on data that has not yet been seen. The training set will be used to train the model. When employing the hold-out method, a typical split is to use 80% of the data for training and the remaining 20% for testing. A confusion matrix will be used to summarise the performance of the classifier."
   ]
  },
  {
   "cell_type": "markdown",
   "id": "db89d69a",
   "metadata": {},
   "source": [
    "### 4. Preparing your data"
   ]
  },
  {
   "cell_type": "markdown",
   "id": "2e049348",
   "metadata": {},
   "source": [
    "To prepare the data for training, vectorization will be performed on the values in the dataset. The dataset is made up of strings and integers. One-hot encoding must be used on the strings to convert them into a tensor of float32 data for TensorFlow to accept. Furthermore, the data will need to be normalised so that the network can converge. The values will be adjusted by ratio into the range 0-1. The features will also be normalised so that they have a mean of 0 and a standard deviation of 1. The dataset will be examined for invalid or missing values."
   ]
  },
  {
   "cell_type": "code",
   "execution_count": 1,
   "id": "817695ba",
   "metadata": {},
   "outputs": [],
   "source": [
    "# pip install tensorflow\n",
    "# pip install keras"
   ]
  },
  {
   "cell_type": "code",
   "execution_count": 2,
   "id": "8776c19a",
   "metadata": {},
   "outputs": [],
   "source": [
    "import pandas as pd\n",
    "import numpy as np\n",
    "import os\n",
    "\n",
    "# Make numpy values easier to read.\n",
    "np.set_printoptions(precision=3, suppress=True)\n",
    "\n",
    "import tensorflow as tf\n",
    "from tensorflow.keras import layers"
   ]
  },
  {
   "cell_type": "code",
   "execution_count": 3,
   "id": "27f679d1",
   "metadata": {},
   "outputs": [],
   "source": [
    "# read in data from csv, extract 100k samples\n",
    "# processing data from the other columns\n",
    "\n",
    "airplane_data = pd.read_csv(\"2007.csv\")\n",
    "airplane_data = airplane_data.sample(n=100000)\n",
    "\n",
    "airplane_data['CRSDepTime'].isna().sum() # There are no NA's\n",
    "\n",
    "airplane_data['CRSDepTime'] = airplane_data['CRSDepTime'].astype(str)\n",
    "length_of_crsdeptime = airplane_data['CRSDepTime'].str.len()\n",
    "airplane_data['HourOfDay'] = np.select([length_of_crsdeptime==4, length_of_crsdeptime==3, length_of_crsdeptime<3], [airplane_data['CRSDepTime'].str[0:2], airplane_data['CRSDepTime'].str[0:1], 0], np.nan)\n",
    "airplane_data['HourOfDay'] = airplane_data['HourOfDay'].astype(int)"
   ]
  },
  {
   "cell_type": "code",
   "execution_count": 4,
   "id": "5e5d76e4",
   "metadata": {},
   "outputs": [],
   "source": [
    "# adding a column to determine if flight was delayed based on the arrival delay time\n",
    "\n",
    "airplane_data = airplane_data.copy()\n",
    "airplane_data['Delayed'] = np.where(airplane_data['ArrDelay'] > 15, 1, 0) # Creating 'Delayed' column. Delayed = 1 if ArrDelay exceeds 15 minutes, 0 otherwise. \n",
    "airplane_data = airplane_data[['Month', 'DayOfWeek', 'UniqueCarrier', 'Origin', 'Dest', 'Distance', 'HourOfDay', 'Delayed']] # Keeping only columns that will be used as features and target variable."
   ]
  },
  {
   "cell_type": "code",
   "execution_count": 5,
   "id": "fd427348",
   "metadata": {},
   "outputs": [
    {
     "data": {
      "text/html": [
       "<div>\n",
       "<style scoped>\n",
       "    .dataframe tbody tr th:only-of-type {\n",
       "        vertical-align: middle;\n",
       "    }\n",
       "\n",
       "    .dataframe tbody tr th {\n",
       "        vertical-align: top;\n",
       "    }\n",
       "\n",
       "    .dataframe thead th {\n",
       "        text-align: right;\n",
       "    }\n",
       "</style>\n",
       "<table border=\"1\" class=\"dataframe\">\n",
       "  <thead>\n",
       "    <tr style=\"text-align: right;\">\n",
       "      <th></th>\n",
       "      <th>Month</th>\n",
       "      <th>DayOfWeek</th>\n",
       "      <th>UniqueCarrier</th>\n",
       "      <th>Origin</th>\n",
       "      <th>Dest</th>\n",
       "      <th>Distance</th>\n",
       "      <th>HourOfDay</th>\n",
       "      <th>Delayed</th>\n",
       "    </tr>\n",
       "  </thead>\n",
       "  <tbody>\n",
       "    <tr>\n",
       "      <th>674929</th>\n",
       "      <td>2</td>\n",
       "      <td>7</td>\n",
       "      <td>WN</td>\n",
       "      <td>PHL</td>\n",
       "      <td>JAX</td>\n",
       "      <td>742</td>\n",
       "      <td>9</td>\n",
       "      <td>0</td>\n",
       "    </tr>\n",
       "    <tr>\n",
       "      <th>1600374</th>\n",
       "      <td>3</td>\n",
       "      <td>7</td>\n",
       "      <td>MQ</td>\n",
       "      <td>ABI</td>\n",
       "      <td>DFW</td>\n",
       "      <td>158</td>\n",
       "      <td>6</td>\n",
       "      <td>1</td>\n",
       "    </tr>\n",
       "    <tr>\n",
       "      <th>4229482</th>\n",
       "      <td>7</td>\n",
       "      <td>7</td>\n",
       "      <td>AA</td>\n",
       "      <td>MIA</td>\n",
       "      <td>JFK</td>\n",
       "      <td>1090</td>\n",
       "      <td>17</td>\n",
       "      <td>1</td>\n",
       "    </tr>\n",
       "    <tr>\n",
       "      <th>6134726</th>\n",
       "      <td>10</td>\n",
       "      <td>3</td>\n",
       "      <td>AA</td>\n",
       "      <td>STL</td>\n",
       "      <td>BOS</td>\n",
       "      <td>1046</td>\n",
       "      <td>7</td>\n",
       "      <td>0</td>\n",
       "    </tr>\n",
       "    <tr>\n",
       "      <th>4408829</th>\n",
       "      <td>8</td>\n",
       "      <td>1</td>\n",
       "      <td>WN</td>\n",
       "      <td>BNA</td>\n",
       "      <td>HOU</td>\n",
       "      <td>670</td>\n",
       "      <td>21</td>\n",
       "      <td>0</td>\n",
       "    </tr>\n",
       "  </tbody>\n",
       "</table>\n",
       "</div>"
      ],
      "text/plain": [
       "         Month  DayOfWeek UniqueCarrier Origin Dest  Distance  HourOfDay  \\\n",
       "674929       2          7            WN    PHL  JAX       742          9   \n",
       "1600374      3          7            MQ    ABI  DFW       158          6   \n",
       "4229482      7          7            AA    MIA  JFK      1090         17   \n",
       "6134726     10          3            AA    STL  BOS      1046          7   \n",
       "4408829      8          1            WN    BNA  HOU       670         21   \n",
       "\n",
       "         Delayed  \n",
       "674929         0  \n",
       "1600374        1  \n",
       "4229482        1  \n",
       "6134726        0  \n",
       "4408829        0  "
      ]
     },
     "execution_count": 5,
     "metadata": {},
     "output_type": "execute_result"
    }
   ],
   "source": [
    "airplane_data.head()"
   ]
  },
  {
   "cell_type": "code",
   "execution_count": 6,
   "id": "f62d440b",
   "metadata": {},
   "outputs": [],
   "source": [
    "# created the features and labels\n",
    "\n",
    "airplane_features = airplane_data.copy()\n",
    "airplane_labels = airplane_features.pop('Delayed')"
   ]
  },
  {
   "cell_type": "code",
   "execution_count": 7,
   "id": "063ca0fc",
   "metadata": {},
   "outputs": [
    {
     "data": {
      "text/plain": [
       "Month             int64\n",
       "DayOfWeek         int64\n",
       "UniqueCarrier    object\n",
       "Origin           object\n",
       "Dest             object\n",
       "Distance          int64\n",
       "HourOfDay         int32\n",
       "dtype: object"
      ]
     },
     "execution_count": 7,
     "metadata": {},
     "output_type": "execute_result"
    }
   ],
   "source": [
    "airplane_features.dtypes"
   ]
  },
  {
   "cell_type": "code",
   "execution_count": 8,
   "id": "1f4db8b4",
   "metadata": {},
   "outputs": [],
   "source": [
    "# splitting the training and test set into 80:20 ratio\n",
    "\n",
    "from sklearn.model_selection import train_test_split\n",
    "\n",
    "X_train, X_val, y_train, y_val = train_test_split(airplane_features, airplane_labels, test_size=0.2, random_state=1)"
   ]
  },
  {
   "cell_type": "code",
   "execution_count": 9,
   "id": "2782c339",
   "metadata": {},
   "outputs": [
    {
     "data": {
      "text/plain": [
       "{'Month': <KerasTensor: shape=(None, 1) dtype=float32 (created by layer 'Month')>,\n",
       " 'DayOfWeek': <KerasTensor: shape=(None, 1) dtype=float32 (created by layer 'DayOfWeek')>,\n",
       " 'UniqueCarrier': <KerasTensor: shape=(None, 1) dtype=string (created by layer 'UniqueCarrier')>,\n",
       " 'Origin': <KerasTensor: shape=(None, 1) dtype=string (created by layer 'Origin')>,\n",
       " 'Dest': <KerasTensor: shape=(None, 1) dtype=string (created by layer 'Dest')>,\n",
       " 'Distance': <KerasTensor: shape=(None, 1) dtype=float32 (created by layer 'Distance')>,\n",
       " 'HourOfDay': <KerasTensor: shape=(None, 1) dtype=float32 (created by layer 'HourOfDay')>}"
      ]
     },
     "execution_count": 9,
     "metadata": {},
     "output_type": "execute_result"
    }
   ],
   "source": [
    "# converting data types for keras\n",
    "\n",
    "inputs = {}\n",
    "\n",
    "for name, column in airplane_features.items():\n",
    "    dtype = column.dtype\n",
    "    if dtype == object:\n",
    "        dtype = tf.string\n",
    "    else:\n",
    "        dtype = tf.float32\n",
    "\n",
    "    inputs[name] = tf.keras.Input(shape=(1,), name=name, dtype=dtype)\n",
    "inputs"
   ]
  },
  {
   "cell_type": "code",
   "execution_count": 10,
   "id": "0b338553",
   "metadata": {},
   "outputs": [
    {
     "data": {
      "text/plain": [
       "<KerasTensor: shape=(None, 4) dtype=float32 (created by layer 'normalization')>"
      ]
     },
     "execution_count": 10,
     "metadata": {},
     "output_type": "execute_result"
    }
   ],
   "source": [
    "# normalizing numerical values\n",
    "\n",
    "numeric_inputs = {name:input for name,input in inputs.items()\n",
    "                  if input.dtype==tf.float32}\n",
    "\n",
    "x = layers.Concatenate()(list(numeric_inputs.values()))\n",
    "norm = layers.Normalization()\n",
    "norm.adapt(np.array(airplane_features[numeric_inputs.keys()]))\n",
    "all_numeric_inputs = norm(x)\n",
    "all_numeric_inputs"
   ]
  },
  {
   "cell_type": "code",
   "execution_count": 11,
   "id": "fbbf98f4",
   "metadata": {},
   "outputs": [],
   "source": [
    "preprocessed_inputs = [all_numeric_inputs]"
   ]
  },
  {
   "cell_type": "code",
   "execution_count": 12,
   "id": "76d15ac4",
   "metadata": {},
   "outputs": [],
   "source": [
    "# performing one hot encoding to categorical data\n",
    "\n",
    "for name, input in inputs.items():\n",
    "    if input.dtype == tf.float32:\n",
    "        continue\n",
    "\n",
    "    lookup = layers.StringLookup(vocabulary=np.unique(airplane_features[name]))\n",
    "    one_hot = layers.CategoryEncoding(num_tokens=lookup.vocabulary_size())\n",
    "\n",
    "    x = lookup(input)\n",
    "    x = one_hot(x)\n",
    "    preprocessed_inputs.append(x)"
   ]
  },
  {
   "cell_type": "code",
   "execution_count": 13,
   "id": "8b3e36ff",
   "metadata": {},
   "outputs": [],
   "source": [
    "preprocessed_inputs_cat = layers.Concatenate()(preprocessed_inputs)\n",
    "airplane_preprocessing = tf.keras.Model(inputs, preprocessed_inputs_cat)"
   ]
  },
  {
   "cell_type": "code",
   "execution_count": 14,
   "id": "1fece43e",
   "metadata": {},
   "outputs": [],
   "source": [
    "airplane_features_dict = {name: np.array(value) \n",
    "                     for name, value in airplane_features.items()}"
   ]
  },
  {
   "cell_type": "code",
   "execution_count": 15,
   "id": "87fccd10",
   "metadata": {
    "scrolled": true
   },
   "outputs": [
    {
     "data": {
      "text/plain": [
       "<tf.Tensor: shape=(1, 622), dtype=float32, numpy=\n",
       "array([[-1.322,  1.54 ,  0.047, -0.873,  0.   ,  0.   ,  0.   ,  0.   ,\n",
       "         0.   ,  0.   ,  0.   ,  0.   ,  0.   ,  0.   ,  0.   ,  0.   ,\n",
       "         0.   ,  0.   ,  0.   ,  0.   ,  0.   ,  0.   ,  1.   ,  0.   ,\n",
       "         0.   ,  0.   ,  0.   ,  0.   ,  0.   ,  0.   ,  0.   ,  0.   ,\n",
       "         0.   ,  0.   ,  0.   ,  0.   ,  0.   ,  0.   ,  0.   ,  0.   ,\n",
       "         0.   ,  0.   ,  0.   ,  0.   ,  0.   ,  0.   ,  0.   ,  0.   ,\n",
       "         0.   ,  0.   ,  0.   ,  0.   ,  0.   ,  0.   ,  0.   ,  0.   ,\n",
       "         0.   ,  0.   ,  0.   ,  0.   ,  0.   ,  0.   ,  0.   ,  0.   ,\n",
       "         0.   ,  0.   ,  0.   ,  0.   ,  0.   ,  0.   ,  0.   ,  0.   ,\n",
       "         0.   ,  0.   ,  0.   ,  0.   ,  0.   ,  0.   ,  0.   ,  0.   ,\n",
       "         0.   ,  0.   ,  0.   ,  0.   ,  0.   ,  0.   ,  0.   ,  0.   ,\n",
       "         0.   ,  0.   ,  0.   ,  0.   ,  0.   ,  0.   ,  0.   ,  0.   ,\n",
       "         0.   ,  0.   ,  0.   ,  0.   ,  0.   ,  0.   ,  0.   ,  0.   ,\n",
       "         0.   ,  0.   ,  0.   ,  0.   ,  0.   ,  0.   ,  0.   ,  0.   ,\n",
       "         0.   ,  0.   ,  0.   ,  0.   ,  0.   ,  0.   ,  0.   ,  0.   ,\n",
       "         0.   ,  0.   ,  0.   ,  0.   ,  0.   ,  0.   ,  0.   ,  0.   ,\n",
       "         0.   ,  0.   ,  0.   ,  0.   ,  0.   ,  0.   ,  0.   ,  0.   ,\n",
       "         0.   ,  0.   ,  0.   ,  0.   ,  0.   ,  0.   ,  0.   ,  0.   ,\n",
       "         0.   ,  0.   ,  0.   ,  0.   ,  0.   ,  0.   ,  0.   ,  0.   ,\n",
       "         0.   ,  0.   ,  0.   ,  0.   ,  0.   ,  0.   ,  0.   ,  0.   ,\n",
       "         0.   ,  0.   ,  0.   ,  0.   ,  0.   ,  0.   ,  0.   ,  0.   ,\n",
       "         0.   ,  0.   ,  0.   ,  0.   ,  0.   ,  0.   ,  0.   ,  0.   ,\n",
       "         0.   ,  0.   ,  0.   ,  0.   ,  0.   ,  0.   ,  0.   ,  0.   ,\n",
       "         0.   ,  0.   ,  0.   ,  0.   ,  0.   ,  0.   ,  0.   ,  0.   ,\n",
       "         0.   ,  0.   ,  0.   ,  0.   ,  0.   ,  0.   ,  0.   ,  0.   ,\n",
       "         0.   ,  0.   ,  0.   ,  0.   ,  0.   ,  0.   ,  0.   ,  0.   ,\n",
       "         0.   ,  0.   ,  0.   ,  0.   ,  0.   ,  0.   ,  0.   ,  0.   ,\n",
       "         0.   ,  0.   ,  0.   ,  0.   ,  0.   ,  0.   ,  0.   ,  0.   ,\n",
       "         0.   ,  0.   ,  0.   ,  0.   ,  0.   ,  0.   ,  0.   ,  0.   ,\n",
       "         0.   ,  0.   ,  0.   ,  0.   ,  0.   ,  0.   ,  0.   ,  0.   ,\n",
       "         0.   ,  1.   ,  0.   ,  0.   ,  0.   ,  0.   ,  0.   ,  0.   ,\n",
       "         0.   ,  0.   ,  0.   ,  0.   ,  0.   ,  0.   ,  0.   ,  0.   ,\n",
       "         0.   ,  0.   ,  0.   ,  0.   ,  0.   ,  0.   ,  0.   ,  0.   ,\n",
       "         0.   ,  0.   ,  0.   ,  0.   ,  0.   ,  0.   ,  0.   ,  0.   ,\n",
       "         0.   ,  0.   ,  0.   ,  0.   ,  0.   ,  0.   ,  0.   ,  0.   ,\n",
       "         0.   ,  0.   ,  0.   ,  0.   ,  0.   ,  0.   ,  0.   ,  0.   ,\n",
       "         0.   ,  0.   ,  0.   ,  0.   ,  0.   ,  0.   ,  0.   ,  0.   ,\n",
       "         0.   ,  0.   ,  0.   ,  0.   ,  0.   ,  0.   ,  0.   ,  0.   ,\n",
       "         0.   ,  0.   ,  0.   ,  0.   ,  0.   ,  0.   ,  0.   ,  0.   ,\n",
       "         0.   ,  0.   ,  0.   ,  0.   ,  0.   ,  0.   ,  0.   ,  0.   ,\n",
       "         0.   ,  0.   ,  0.   ,  0.   ,  0.   ,  0.   ,  0.   ,  0.   ,\n",
       "         0.   ,  0.   ,  0.   ,  0.   ,  0.   ,  0.   ,  0.   ,  0.   ,\n",
       "         0.   ,  0.   ,  0.   ,  0.   ,  0.   ,  0.   ,  0.   ,  0.   ,\n",
       "         0.   ,  0.   ,  0.   ,  0.   ,  0.   ,  0.   ,  0.   ,  0.   ,\n",
       "         0.   ,  0.   ,  0.   ,  0.   ,  0.   ,  0.   ,  0.   ,  0.   ,\n",
       "         0.   ,  0.   ,  0.   ,  0.   ,  0.   ,  0.   ,  0.   ,  0.   ,\n",
       "         0.   ,  0.   ,  0.   ,  0.   ,  0.   ,  0.   ,  0.   ,  0.   ,\n",
       "         0.   ,  0.   ,  0.   ,  0.   ,  0.   ,  0.   ,  0.   ,  0.   ,\n",
       "         0.   ,  0.   ,  0.   ,  0.   ,  0.   ,  0.   ,  0.   ,  0.   ,\n",
       "         0.   ,  0.   ,  0.   ,  0.   ,  0.   ,  0.   ,  0.   ,  0.   ,\n",
       "         0.   ,  0.   ,  0.   ,  0.   ,  0.   ,  0.   ,  0.   ,  0.   ,\n",
       "         0.   ,  0.   ,  0.   ,  0.   ,  0.   ,  0.   ,  0.   ,  0.   ,\n",
       "         0.   ,  0.   ,  0.   ,  0.   ,  0.   ,  0.   ,  0.   ,  0.   ,\n",
       "         0.   ,  0.   ,  0.   ,  0.   ,  0.   ,  0.   ,  0.   ,  0.   ,\n",
       "         0.   ,  0.   ,  0.   ,  0.   ,  0.   ,  0.   ,  0.   ,  0.   ,\n",
       "         0.   ,  0.   ,  0.   ,  0.   ,  0.   ,  0.   ,  0.   ,  0.   ,\n",
       "         0.   ,  0.   ,  0.   ,  0.   ,  0.   ,  0.   ,  0.   ,  0.   ,\n",
       "         0.   ,  0.   ,  0.   ,  0.   ,  0.   ,  0.   ,  0.   ,  0.   ,\n",
       "         0.   ,  0.   ,  0.   ,  0.   ,  0.   ,  0.   ,  0.   ,  1.   ,\n",
       "         0.   ,  0.   ,  0.   ,  0.   ,  0.   ,  0.   ,  0.   ,  0.   ,\n",
       "         0.   ,  0.   ,  0.   ,  0.   ,  0.   ,  0.   ,  0.   ,  0.   ,\n",
       "         0.   ,  0.   ,  0.   ,  0.   ,  0.   ,  0.   ,  0.   ,  0.   ,\n",
       "         0.   ,  0.   ,  0.   ,  0.   ,  0.   ,  0.   ,  0.   ,  0.   ,\n",
       "         0.   ,  0.   ,  0.   ,  0.   ,  0.   ,  0.   ,  0.   ,  0.   ,\n",
       "         0.   ,  0.   ,  0.   ,  0.   ,  0.   ,  0.   ,  0.   ,  0.   ,\n",
       "         0.   ,  0.   ,  0.   ,  0.   ,  0.   ,  0.   ,  0.   ,  0.   ,\n",
       "         0.   ,  0.   ,  0.   ,  0.   ,  0.   ,  0.   ,  0.   ,  0.   ,\n",
       "         0.   ,  0.   ,  0.   ,  0.   ,  0.   ,  0.   ,  0.   ,  0.   ,\n",
       "         0.   ,  0.   ,  0.   ,  0.   ,  0.   ,  0.   ,  0.   ,  0.   ,\n",
       "         0.   ,  0.   ,  0.   ,  0.   ,  0.   ,  0.   ,  0.   ,  0.   ,\n",
       "         0.   ,  0.   ,  0.   ,  0.   ,  0.   ,  0.   ,  0.   ,  0.   ,\n",
       "         0.   ,  0.   ,  0.   ,  0.   ,  0.   ,  0.   ,  0.   ,  0.   ,\n",
       "         0.   ,  0.   ,  0.   ,  0.   ,  0.   ,  0.   ,  0.   ,  0.   ,\n",
       "         0.   ,  0.   ,  0.   ,  0.   ,  0.   ,  0.   ,  0.   ,  0.   ,\n",
       "         0.   ,  0.   ,  0.   ,  0.   ,  0.   ,  0.   ,  0.   ,  0.   ,\n",
       "         0.   ,  0.   ,  0.   ,  0.   ,  0.   ,  0.   ,  0.   ,  0.   ,\n",
       "         0.   ,  0.   ,  0.   ,  0.   ,  0.   ,  0.   ,  0.   ,  0.   ,\n",
       "         0.   ,  0.   ,  0.   ,  0.   ,  0.   ,  0.   ]], dtype=float32)>"
      ]
     },
     "execution_count": 15,
     "metadata": {},
     "output_type": "execute_result"
    }
   ],
   "source": [
    "# feeding all the processed data to the tensor\n",
    "\n",
    "features_dict = {name:values[:1] for name, values in airplane_features_dict.items()}\n",
    "airplane_preprocessing(features_dict)"
   ]
  },
  {
   "cell_type": "code",
   "execution_count": 16,
   "id": "e8ebd05f",
   "metadata": {},
   "outputs": [],
   "source": [
    "# Create function to plot graphs\n",
    "\n",
    "import matplotlib.pyplot as plt\n",
    "\n",
    "def plot_loss(loss, val_loss):\n",
    "    plt.clf()\n",
    "    epochs = range(1, len(loss) + 1)\n",
    "    plt.plot(epochs, loss, 'bo', label='Training Loss')\n",
    "    plt.plot(epochs, val_loss, 'b', label='Validation Loss')\n",
    "    plt.title('Training and validation loss')\n",
    "    plt.xlabel('Epochs')\n",
    "    plt.ylabel('Loss')\n",
    "    plt.legend()\n",
    "    plt.show()\n",
    "    \n",
    "def plot_accuracy(acc, val_acc):\n",
    "    plt.clf()\n",
    "    epoch = range(1, len(acc) +1)\n",
    "    plt.plot(epoch, acc, 'bo', label=\"Training Accuracy\")\n",
    "    plt.plot(epoch, val_acc, 'b', label=\"Validation Accuracy\")\n",
    "    plt.title(\"Training and Validation Accuracy\")\n",
    "    plt.xlabel('Epoch')\n",
    "    plt.ylabel('Accuracy')\n",
    "    plt.legend()\n",
    "    plt.show()"
   ]
  },
  {
   "cell_type": "markdown",
   "id": "0581ddeb",
   "metadata": {},
   "source": [
    "### Developing the baseline model"
   ]
  },
  {
   "cell_type": "code",
   "execution_count": 17,
   "id": "326b4672",
   "metadata": {},
   "outputs": [
    {
     "data": {
      "text/plain": [
       "<keras.metrics.metrics.AUC at 0x1e6ac850400>"
      ]
     },
     "execution_count": 17,
     "metadata": {},
     "output_type": "execute_result"
    }
   ],
   "source": [
    "# creating AUC metric\n",
    "\n",
    "tf.keras.metrics.AUC(\n",
    "    num_thresholds=200,\n",
    "    curve='ROC',\n",
    "    summation_method='interpolation',\n",
    "    name=None,\n",
    "    dtype=None,\n",
    "    thresholds=None,\n",
    "    multi_label=False,\n",
    "    num_labels=None,\n",
    "    label_weights=None,\n",
    "    from_logits=False\n",
    ")"
   ]
  },
  {
   "cell_type": "code",
   "execution_count": 18,
   "id": "cf4887bd",
   "metadata": {},
   "outputs": [
    {
     "name": "stdout",
     "output_type": "stream",
     "text": [
      "Epoch 1/10\n",
      "157/157 [==============================] - 2s 7ms/step - loss: 0.5618 - accuracy: 0.7522 - auc_1: 0.5560 - val_loss: 0.5221 - val_accuracy: 0.7660 - val_auc_1: 0.6390\n",
      "Epoch 2/10\n",
      "157/157 [==============================] - 1s 4ms/step - loss: 0.5151 - accuracy: 0.7693 - auc_1: 0.6488 - val_loss: 0.5191 - val_accuracy: 0.7660 - val_auc_1: 0.6471\n",
      "Epoch 3/10\n",
      "157/157 [==============================] - 1s 4ms/step - loss: 0.5114 - accuracy: 0.7693 - auc_1: 0.6589 - val_loss: 0.5182 - val_accuracy: 0.7660 - val_auc_1: 0.6501\n",
      "Epoch 4/10\n",
      "157/157 [==============================] - 1s 4ms/step - loss: 0.5089 - accuracy: 0.7693 - auc_1: 0.6660 - val_loss: 0.5176 - val_accuracy: 0.7657 - val_auc_1: 0.6519\n",
      "Epoch 5/10\n",
      "157/157 [==============================] - 1s 4ms/step - loss: 0.5065 - accuracy: 0.7695 - auc_1: 0.6716 - val_loss: 0.5173 - val_accuracy: 0.7653 - val_auc_1: 0.6532\n",
      "Epoch 6/10\n",
      "157/157 [==============================] - 1s 4ms/step - loss: 0.5044 - accuracy: 0.7701 - auc_1: 0.6766 - val_loss: 0.5173 - val_accuracy: 0.7656 - val_auc_1: 0.6550\n",
      "Epoch 7/10\n",
      "157/157 [==============================] - 1s 4ms/step - loss: 0.5023 - accuracy: 0.7704 - auc_1: 0.6817 - val_loss: 0.5173 - val_accuracy: 0.7644 - val_auc_1: 0.6551\n",
      "Epoch 8/10\n",
      "157/157 [==============================] - 1s 4ms/step - loss: 0.5004 - accuracy: 0.7710 - auc_1: 0.6863 - val_loss: 0.5176 - val_accuracy: 0.7635 - val_auc_1: 0.6538\n",
      "Epoch 9/10\n",
      "157/157 [==============================] - 1s 4ms/step - loss: 0.4985 - accuracy: 0.7718 - auc_1: 0.6903 - val_loss: 0.5185 - val_accuracy: 0.7640 - val_auc_1: 0.6542\n",
      "Epoch 10/10\n",
      "157/157 [==============================] - 1s 4ms/step - loss: 0.4970 - accuracy: 0.7718 - auc_1: 0.6937 - val_loss: 0.5187 - val_accuracy: 0.7628 - val_auc_1: 0.6540\n"
     ]
    }
   ],
   "source": [
    "from tensorflow import keras\n",
    "from keras import optimizers\n",
    "\n",
    "def airplane_baseline_model(preprocessing_head, inputs):\n",
    "    body = tf.keras.Sequential([\n",
    "    layers.Dense(16, activation='relu'),\n",
    "    layers.Dense(16, activation='relu'),\n",
    "    layers.Dense(1, activation='sigmoid')\n",
    "    ])\n",
    "\n",
    "    preprocessed_inputs = preprocessing_head(inputs)\n",
    "    result = body(preprocessed_inputs)\n",
    "    model = tf.keras.Model(inputs, result)\n",
    "\n",
    "    model.compile(optimizer=tf.optimizers.Adam(),\n",
    "                loss='binary_crossentropy',\n",
    "                metrics=['accuracy', tf.keras.metrics.AUC(from_logits=True)])\n",
    "    return model\n",
    "\n",
    "airplane_baseline_model = airplane_baseline_model(airplane_preprocessing, inputs)\n",
    "history_base = airplane_baseline_model.fit(x=airplane_features_dict, \n",
    "                                           y=airplane_labels,\n",
    "                                           epochs=10,\n",
    "                                           batch_size = 512,\n",
    "                                           validation_split = 0.2)"
   ]
  },
  {
   "cell_type": "code",
   "execution_count": 19,
   "id": "b8863025",
   "metadata": {},
   "outputs": [
    {
     "data": {
      "image/png": "[encoded data removed]",
      "text/plain": [
       "<Figure size 640x480 with 1 Axes>"
      ]
     },
     "metadata": {},
     "output_type": "display_data"
    }
   ],
   "source": [
    "plot_loss(history_base.history['loss'], history_base.history['val_loss'])"
   ]
  },
  {
   "cell_type": "code",
   "execution_count": 20,
   "id": "3d16de30",
   "metadata": {},
   "outputs": [
    {
     "data": {
      "image/png": "[encoded data removed]",
      "text/plain": [
       "<Figure size 640x480 with 1 Axes>"
      ]
     },
     "metadata": {},
     "output_type": "display_data"
    }
   ],
   "source": [
    "plot_accuracy(history_base.history['auc_1'], history_base.history['val_auc_1'])"
   ]
  },
  {
   "cell_type": "code",
   "execution_count": 21,
   "id": "c958080d",
   "metadata": {},
   "outputs": [
    {
     "name": "stdout",
     "output_type": "stream",
     "text": [
      "3125/3125 - 6s - loss: 0.4982 - accuracy: 0.7711 - auc_1: 0.6928 - 6s/epoch - 2ms/step\n"
     ]
    }
   ],
   "source": [
    "loss, auc, accuracy = airplane_baseline_model.evaluate(x=airplane_features_dict, y=airplane_labels, verbose = 2)"
   ]
  },
  {
   "cell_type": "markdown",
   "id": "5e0ad50f",
   "metadata": {},
   "source": [
    "### Loss: 0.50,  AUC: 0.69,  Accuracy: 77.11%"
   ]
  },
  {
   "cell_type": "markdown",
   "id": "b1496060",
   "metadata": {},
   "source": [
    "The AUC obtained a result of 0.68 while the loss function obtained a results of 0.50. The result at this point is acceptable enough to determine that the model has statistical power and can be improved further. The shape of the graph determines that the model is overfitting. In the following weeks, an underfitting model will be created so we can have a rough idea of where a well performing model stands (between the current overfitting and underfitting model)."
   ]
  }
 ],
 "metadata": {
  "kernelspec": {
   "display_name": "Python 3",
   "language": "python",
   "name": "python3"
  },
  "language_info": {
   "codemirror_mode": {
    "name": "ipython",
    "version": 3
   },
   "file_extension": ".py",
   "mimetype": "text/x-python",
   "name": "python",
   "nbconvert_exporter": "python",
   "pygments_lexer": "ipython3",
   "version": "3.8.5"
  }
 },
 "nbformat": 4,
 "nbformat_minor": 5
}
